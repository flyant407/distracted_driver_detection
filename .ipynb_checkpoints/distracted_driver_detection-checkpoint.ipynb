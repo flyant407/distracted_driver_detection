{
 "cells": [
  {
   "cell_type": "markdown",
   "metadata": {},
   "source": [
    "# Udacity 机器学习(进阶)毕业项目\n",
    "\n",
    "## 走神司机识别"
   ]
  },
  {
   "cell_type": "markdown",
   "metadata": {},
   "source": [
    "### 第1步：导入数据集\n",
    "\n",
    "#### 下面的代码使用scikit-learn库中的load_files函数获取一些变量：\n",
    "> - train_files, test_flies：是包含了图像的文件路径的numpy数组\n",
    "> - train_targets, test_targets：是包含了独热编码分类标签的numpy数组"
   ]
  },
  {
   "cell_type": "code",
   "execution_count": 33,
   "metadata": {},
   "outputs": [
    {
     "name": "stdout",
     "output_type": "stream",
     "text": [
      "There are 10 total driver status.\n",
      "There are 600 total driver images.\n",
      "\n",
      "There are 500 total train driver images.\n",
      "There are 100 total test driver images.\n"
     ]
    }
   ],
   "source": [
    "from sklearn.datasets import load_files, load_sample_images\n",
    "from keras.utils import np_utils\n",
    "import os\n",
    "import numpy as np\n",
    "from glob import glob\n",
    "import random\n",
    "random.seed(876543)\n",
    "\n",
    "#定义函数来家在train和test数据集\n",
    "def load_datasets(path):\n",
    "    '''\n",
    "    加载给定的路径目录下的文件，\n",
    "    以每个文件下名字为target name并将其下的文件归入该target类别，\n",
    "    target是独热编码后的numpy数据\n",
    "    '''\n",
    "    data = load_files(path)\n",
    "    driver_files = np.array(data['filenames'])\n",
    "    driver_targets = np_utils.to_categorical(np.array(data['target']),10)\n",
    "    return driver_files, driver_targets\n",
    "\n",
    "#加载train和test数据集\n",
    "train_files, train_targets = load_datasets('images/train')\n",
    "#test_files, test_targets = load_datasets('images/test')\n",
    "\n",
    "#os.listdir：输出的文件名不包括\"images/test\"\n",
    "#glob：输出的文件名包括\"images/test\"\n",
    "#为了与load_datasets的输出保持一致，这里使用glob\n",
    "#test_files = np.array(os.listdir('images/test'))\n",
    "test_files = np.array(glob('images/test/*'))\n",
    "#random.shuffle（）将序列的所有元素随机排序\n",
    "random.shuffle(test_files)\n",
    "driver_status = [item[13:-1] for item in sorted(glob(\"images/train/*/\"))]\n",
    "\n",
    "#打印数据的统计描述\n",
    "print(\"There are %d total driver status.\" % len(driver_status))\n",
    "print(\"There are %d total driver images.\\n\" % len(np.hstack([train_files, test_files])))\n",
    "\n",
    "print(\"There are %d total train driver images.\" % len(train_files))\n",
    "print(\"There are %d total test driver images.\" % len(test_files))\n",
    "\n",
    "#print(train_files)\n",
    "#print(train_targets)\n",
    "#print(test_files)\n",
    "#print(driver_status)\n"
   ]
  },
  {
   "cell_type": "code",
   "execution_count": null,
   "metadata": {
    "collapsed": true
   },
   "outputs": [],
   "source": []
  }
 ],
 "metadata": {
  "kernelspec": {
   "display_name": "Python 3",
   "language": "python",
   "name": "python3"
  },
  "language_info": {
   "codemirror_mode": {
    "name": "ipython",
    "version": 3
   },
   "file_extension": ".py",
   "mimetype": "text/x-python",
   "name": "python",
   "nbconvert_exporter": "python",
   "pygments_lexer": "ipython3",
   "version": "3.6.1"
  }
 },
 "nbformat": 4,
 "nbformat_minor": 2
}
